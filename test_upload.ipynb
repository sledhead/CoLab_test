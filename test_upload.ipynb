{
  "nbformat": 4,
  "nbformat_minor": 0,
  "metadata": {
    "colab": {
      "name": "test_upload.ipynb",
      "provenance": [],
      "authorship_tag": "ABX9TyPOc9XrGffxHPv6Ua1EudFI",
      "include_colab_link": true
    },
    "kernelspec": {
      "name": "python3",
      "display_name": "Python 3"
    },
    "language_info": {
      "name": "python"
    }
  },
  "cells": [
    {
      "cell_type": "markdown",
      "metadata": {
        "id": "view-in-github",
        "colab_type": "text"
      },
      "source": [
        "<a href=\"https://colab.research.google.com/github/sledhead/CoLab_test/blob/main/test_upload.ipynb\" target=\"_parent\"><img src=\"https://colab.research.google.com/assets/colab-badge.svg\" alt=\"Open In Colab\"/></a>"
      ]
    },
    {
      "cell_type": "code",
      "execution_count": null,
      "metadata": {
        "colab": {
          "base_uri": "https://localhost:8080/"
        },
        "id": "3DumS_SsfstJ",
        "outputId": "c5b36e8e-0a71-4276-c762-8c440729c64d"
      },
      "outputs": [
        {
          "output_type": "stream",
          "name": "stdout",
          "text": [
            "testing some stuff\n"
          ]
        }
      ],
      "source": [
        "\n",
        "print(f'testing some stuff')"
      ]
    },
    {
      "cell_type": "code",
      "source": [
        "\n",
        "Nextline = 'the stufgf'"
      ],
      "metadata": {
        "id": "mbiVV8Y8hYFw"
      },
      "execution_count": null,
      "outputs": []
    },
    {
      "cell_type": "code",
      "source": [
        "\n",
        "list_com = [ x + 9 for x in range(1,25)]\n",
        "\n",
        "print(list_com)\n",
        "\n"
      ],
      "metadata": {
        "id": "hUetp27bkWYi",
        "outputId": "d5c15f60-54c3-4953-e4a2-736ee20d5e09",
        "colab": {
          "base_uri": "https://localhost:8080/"
        }
      },
      "execution_count": 2,
      "outputs": [
        {
          "output_type": "stream",
          "name": "stdout",
          "text": [
            "[10, 11, 12, 13, 14, 15, 16, 17, 18, 19, 20, 21, 22, 23, 24, 25, 26, 27, 28, 29, 30, 31, 32, 33]\n"
          ]
        }
      ]
    }
  ]
}