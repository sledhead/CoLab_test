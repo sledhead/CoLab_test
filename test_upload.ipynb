{
  "nbformat": 4,
  "nbformat_minor": 0,
  "metadata": {
    "colab": {
      "name": "test_upload.ipynb",
      "provenance": [],
      "authorship_tag": "ABX9TyPcGH//P6/7AlZMpuAudgPJ",
      "include_colab_link": true
    },
    "kernelspec": {
      "name": "python3",
      "display_name": "Python 3"
    },
    "language_info": {
      "name": "python"
    }
  },
  "cells": [
    {
      "cell_type": "markdown",
      "metadata": {
        "id": "view-in-github",
        "colab_type": "text"
      },
      "source": [
        "<a href=\"https://colab.research.google.com/github/sledhead/CoLab_test/blob/main/test_upload.ipynb\" target=\"_parent\"><img src=\"https://colab.research.google.com/assets/colab-badge.svg\" alt=\"Open In Colab\"/></a>"
      ]
    },
    {
      "cell_type": "code",
      "execution_count": 1,
      "metadata": {
        "colab": {
          "base_uri": "https://localhost:8080/"
        },
        "id": "3DumS_SsfstJ",
        "outputId": "c5b36e8e-0a71-4276-c762-8c440729c64d"
      },
      "outputs": [
        {
          "output_type": "stream",
          "name": "stdout",
          "text": [
            "testing some stuff\n"
          ]
        }
      ],
      "source": [
        "\n",
        "print(f'testing some stuff')"
      ]
    }
  ]
}